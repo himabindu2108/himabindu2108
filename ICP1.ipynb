{
  "nbformat": 4,
  "nbformat_minor": 0,
  "metadata": {
    "colab": {
      "provenance": [],
      "authorship_tag": "ABX9TyP6Y/rE2RU6vMyZ8HJQA03b",
      "include_colab_link": true
    },
    "kernelspec": {
      "name": "python3",
      "display_name": "Python 3"
    },
    "language_info": {
      "name": "python"
    }
  },
  "cells": [
    {
      "cell_type": "markdown",
      "metadata": {
        "id": "view-in-github",
        "colab_type": "text"
      },
      "source": [
        "<a href=\"https://colab.research.google.com/github/himabindu2108/himabindu2108/blob/main/ICP1.ipynb\" target=\"_parent\"><img src=\"https://colab.research.google.com/assets/colab-badge.svg\" alt=\"Open In Colab\"/></a>"
      ]
    },
    {
      "cell_type": "code",
      "execution_count": 30,
      "metadata": {
        "colab": {
          "base_uri": "https://localhost:8080/"
        },
        "id": "8u8P-8Ly6r7W",
        "outputId": "218d324d-b99c-4789-998c-0bee499d7f2b"
      },
      "outputs": [
        {
          "output_type": "stream",
          "name": "stdout",
          "text": [
            "Read an input string: python\n",
            "ntyp\n"
          ]
        }
      ],
      "source": [
        "string = input(\"Read an input string: \")\n",
        "for i in range(2):\n",
        "    string = string.replace(string[-2], \"\")\n",
        "print(string[::-1])\n",
        "\n"
      ]
    },
    {
      "cell_type": "code",
      "source": [
        "One = float(input(\":\"))\n",
        "Two =float(input(\":\"))\n",
        "print( One + Two)\n",
        "print( One / Two)\n",
        "print( One * Two)\n",
        "print( One - Two)"
      ],
      "metadata": {
        "colab": {
          "base_uri": "https://localhost:8080/"
        },
        "id": "WTU3fc0m6sWs",
        "outputId": "95b23f11-5ce6-4257-96e1-fcadc4ef0a5f"
      },
      "execution_count": 19,
      "outputs": [
        {
          "output_type": "stream",
          "name": "stdout",
          "text": [
            ":1\n",
            ":2\n",
            "3.0\n",
            "0.5\n",
            "2.0\n",
            "-1.0\n"
          ]
        }
      ]
    },
    {
      "cell_type": "code",
      "source": [
        "String = input(\"enter : \")\n",
        "String = String.replace(\"apples\", \"apple\")\n",
        "print(String)\n"
      ],
      "metadata": {
        "colab": {
          "base_uri": "https://localhost:8080/"
        },
        "id": "0yBwavdo86C9",
        "outputId": "af49ef18-f6e7-4bc0-9b98-56e88b7197d1"
      },
      "execution_count": 24,
      "outputs": [
        {
          "output_type": "stream",
          "name": "stdout",
          "text": [
            "enter : I love apples\n",
            "I love apple\n"
          ]
        }
      ]
    },
    {
      "cell_type": "code",
      "source": [
        "marks = int(input (\"enter marks:\"))\n",
        "if marks > 90:\n",
        "  print(\"A\")\n",
        "elif marks > 80:\n",
        "  print(\"B\")\n",
        "elif marks > 70:\n",
        "  print(\"C\")\n",
        "elif marks > 60:\n",
        "  print(\"D\")"
      ],
      "metadata": {
        "colab": {
          "base_uri": "https://localhost:8080/"
        },
        "id": "Lu3XigcC-kSx",
        "outputId": "c9932023-e159-4aa4-adee-c1ea63cb4d36"
      },
      "execution_count": 32,
      "outputs": [
        {
          "output_type": "stream",
          "name": "stdout",
          "text": [
            "enter marks:91\n",
            "A\n"
          ]
        }
      ]
    },
    {
      "cell_type": "code",
      "source": [],
      "metadata": {
        "id": "KOjxlbG1CokA"
      },
      "execution_count": null,
      "outputs": []
    }
  ]
}