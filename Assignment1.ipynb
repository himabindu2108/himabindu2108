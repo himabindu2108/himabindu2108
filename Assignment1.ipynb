{
  "nbformat": 4,
  "nbformat_minor": 0,
  "metadata": {
    "colab": {
      "provenance": [],
      "authorship_tag": "ABX9TyNDzBtolCN39hIVHLdWoI4w",
      "include_colab_link": true
    },
    "kernelspec": {
      "name": "python3",
      "display_name": "Python 3"
    },
    "language_info": {
      "name": "python"
    }
  },
  "cells": [
    {
      "cell_type": "markdown",
      "metadata": {
        "id": "view-in-github",
        "colab_type": "text"
      },
      "source": [
        "<a href=\"https://colab.research.google.com/github/himabindu2108/himabindu2108/blob/main/Assignment1.ipynb\" target=\"_parent\"><img src=\"https://colab.research.google.com/assets/colab-badge.svg\" alt=\"Open In Colab\"/></a>"
      ]
    },
    {
      "cell_type": "code",
      "execution_count": 3,
      "metadata": {
        "colab": {
          "base_uri": "https://localhost:8080/"
        },
        "id": "rwPlRFKQ7JlA",
        "outputId": "1b8bffa3-75d9-4ec9-ce6b-dde4fb56d381"
      },
      "outputs": [
        {
          "output_type": "stream",
          "name": "stdout",
          "text": [
            "Enter first number:3\n",
            "Enter second number:5\n",
            "addition of two given numbers: 8.0\n",
            "Subtraction of two given numbers: -2.0\n",
            "Multiplication of two given numbers: 15.0\n",
            "Division of two given numbers: 0.6\n"
          ]
        }
      ],
      "source": [
        "FirstNumber = float(input(\"Enter first number:\"))\n",
        "SecondNumber =float(input(\"Enter second number:\"))\n",
        "print(\"addition of two given numbers:\", FirstNumber + SecondNumber)\n",
        "print(\"Subtraction of two given numbers:\", FirstNumber - SecondNumber)\n",
        "print(\"Multiplication of two given numbers:\", FirstNumber * SecondNumber)\n",
        "print(\"Division of two given numbers:\", FirstNumber/SecondNumber)"
      ]
    },
    {
      "cell_type": "code",
      "source": [
        "string = input(\"Read an input string: \")\n",
        "for i in range(2):\n",
        "    string = string.replace(string[-2], \"\")\n",
        "print(string[::-1])"
      ],
      "metadata": {
        "colab": {
          "base_uri": "https://localhost:8080/"
        },
        "id": "tQ9wqJ-57cbb",
        "outputId": "c5020f6e-3f23-4232-cdd5-3dfd85c581ff"
      },
      "execution_count": 4,
      "outputs": [
        {
          "output_type": "stream",
          "name": "stdout",
          "text": [
            "Read an input string: python\n",
            "ntyp\n"
          ]
        }
      ]
    },
    {
      "cell_type": "code",
      "source": [
        "marks = float(input(\"Enter your percentage:\"))\n",
        "if marks >= 90:\n",
        "    print(\"Your grade is 'A'\")\n",
        "elif marks >= 80:\n",
        "    print(\"Your grade is 'B'\")\n",
        "elif marks >= 70:\n",
        "    print(\"Your grade is 'C'\")\n",
        "elif marks >= 60:\n",
        "    print(\"Your grade is 'D'\")\n",
        "else:\n",
        "    print(\"Your grade is 'F'\")"
      ],
      "metadata": {
        "colab": {
          "base_uri": "https://localhost:8080/"
        },
        "id": "QGrG2SyF8OkW",
        "outputId": "3024d0b3-d533-4ed8-bcfc-9db962b5d689"
      },
      "execution_count": 5,
      "outputs": [
        {
          "output_type": "stream",
          "name": "stdout",
          "text": [
            "Enter your percentage:75\n",
            "Your grade is 'C'\n"
          ]
        }
      ]
    },
    {
      "cell_type": "code",
      "source": [
        "string = input(\"Enter a String: \")\n",
        "string = string.replace(\"python\", \"pythons\")\n",
        "print(string)"
      ],
      "metadata": {
        "colab": {
          "base_uri": "https://localhost:8080/"
        },
        "id": "0mL_iTLM8cTK",
        "outputId": "b5d268de-c0b5-4e24-a544-8647d04d0524"
      },
      "execution_count": 7,
      "outputs": [
        {
          "output_type": "stream",
          "name": "stdout",
          "text": [
            "Enter a String: I like python\n",
            "I like pythons\n"
          ]
        }
      ]
    }
  ]
}